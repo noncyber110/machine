{
 "cells": [
  {
   "cell_type": "markdown",
   "id": "9cb453f0",
   "metadata": {},
   "source": [
    "# calling library"
   ]
  },
  {
   "cell_type": "code",
   "execution_count": 1,
   "id": "49e9704e",
   "metadata": {},
   "outputs": [],
   "source": [
    "import numpy as np\n",
    "import pandas as pd\n",
    "from matplotlib import pyplot as plt\n",
    "%matplotlib inline\n",
    "import tensorflow as tf\n",
    "from tensorflow import keras\n",
    "import seaborn as sn"
   ]
  },
  {
   "cell_type": "markdown",
   "id": "bcba35b6",
   "metadata": {},
   "source": [
    "# reading file"
   ]
  },
  {
   "cell_type": "code",
   "execution_count": 2,
   "id": "aaf1a0c3",
   "metadata": {},
   "outputs": [],
   "source": [
    "file = pd.read_csv('D:\\machine_learning\\laptop_price.csv')\n",
    "# file"
   ]
  },
  {
   "cell_type": "markdown",
   "id": "66b78333",
   "metadata": {},
   "source": [
    "# convert to array"
   ]
  },
  {
   "cell_type": "code",
   "execution_count": 54,
   "id": "c727a349",
   "metadata": {},
   "outputs": [
    {
     "data": {
      "text/plain": [
       "array([[930, 944, 'Lenovo', ..., 'Windows 10', '2.2kg', 309.0],\n",
       "       [817, 826, 'HP', ..., 'Chrome OS', '1.23kg', 385.0],\n",
       "       [690, 698, 'Acer', ..., 'Chrome OS', '1.45kg', 375.0],\n",
       "       ...,\n",
       "       [498, 505, 'Lenovo', ..., 'Windows 10', '1.4kg', 949.0],\n",
       "       [81, 83, 'Apple', ..., 'macOS', '0.92kg', 1510.0],\n",
       "       [94, 96, 'Asus', ..., 'Windows 10', '1.25kg', 1049.0]],\n",
       "      dtype=object)"
      ]
     },
     "execution_count": 54,
     "metadata": {},
     "output_type": "execute_result"
    }
   ],
   "source": [
    "file = np.array(file)\n",
    "file.shape\n",
    "file"
   ]
  },
  {
   "cell_type": "code",
   "execution_count": 62,
   "id": "1c88489b",
   "metadata": {},
   "outputs": [
    {
     "name": "stdout",
     "output_type": "stream",
     "text": [
      "X_dev shape (13, 1000)\n",
      "Y_dev shape (1000,)\n",
      "\n",
      "X_train shape (13, 303)\n",
      "Y_train shape (303,)\n"
     ]
    }
   ],
   "source": [
    "file = np.array(file)\n",
    "m , n = file.shape\n",
    "# file\n",
    "np.random.shuffle(file)\n",
    "\n",
    "file_dev = file[0:1000].T\n",
    "Y_dev = file_dev[0]\n",
    "X_dev = file_dev[1:n]\n",
    "\n",
    "file_train = file[1000:m].T\n",
    "Y_train = file_train[0]\n",
    "X_train = file_train[1:n]\n",
    "file\n",
    "\n",
    "print(f'X_dev shape {X_dev.shape}')\n",
    "print(f'Y_dev shape {Y_dev.shape}')\n",
    "print()\n",
    "print(f'X_train shape {X_train.shape}')\n",
    "print(f'Y_train shape {Y_train.shape}')\n",
    "\n"
   ]
  },
  {
   "cell_type": "markdown",
   "id": "f3575187",
   "metadata": {},
   "source": [
    "# # functions\n",
    "# forward functions ----------------------"
   ]
  },
  {
   "cell_type": "code",
   "execution_count": 12,
   "id": "ba935364",
   "metadata": {},
   "outputs": [],
   "source": [
    "\n",
    "def init_params():\n",
    "    W1 = np.random.randn(10,784) - 0.5\n",
    "    b1 = np.random.randn(10,1) - 0.5   \n",
    "    W2 = np.random.randn(10,10) - 0.5   \n",
    "    b2 = np.random.randn(10,1) - 0.5 \n",
    "    \n",
    "    return W1,b1,W2,b2\n",
    "\n",
    "def ReLU(Z):\n",
    "    return np.maximum(0,Z)\n",
    "\n",
    "def Softmax(Z):\n",
    "    return exp(Z) / np.sum(exp(Z))\n",
    "\n",
    "def forward_prop(W1,b1,W2,b2,X):\n",
    "    Z1 = W1.dot(X) + b1\n",
    "    A1 = ReLU(Z1)\n",
    "    Z2 = W2.dot(A1) + b2\n",
    "    A2 = Softmax(A1)\n",
    "    \n",
    "    return Z1, A1, Z2, A2\n"
   ]
  },
  {
   "cell_type": "markdown",
   "id": "0e9e01eb",
   "metadata": {},
   "source": [
    "\n",
    "# Bacward functions ---------------------------------------\n"
   ]
  },
  {
   "cell_type": "code",
   "execution_count": 13,
   "id": "62f6b09b",
   "metadata": {},
   "outputs": [],
   "source": [
    "def one_hot(Y):\n",
    "    one_hot_Y = np.zeros((Y.size, Y.max() + 1))\n",
    "    one_hot_Y[np.arange(Y.size),Y] = 1\n",
    "    one_hot_Y = one_hot_Y.T\n",
    "    return one_hot_Y\n",
    "\n",
    "def deriv_ReLU(Z):\n",
    "    return Z > 0\n",
    "\n",
    "def back_prop(Z1,A1,Z2,A2,W2,X,Y):\n",
    "    m = Y.size\n",
    "    one_hot_Y = one_hot(Y)\n",
    "    dZ2 = A2 - one_hot_Y\n",
    "    dW2 = 1/m * dZ2.dot(A1.T)\n",
    "    db2 = 1/m * np.sum(dZ2,2)\n",
    "    \n",
    "    dZ1 = W2.T.dot(dZ2) * deriv_ReLU(Z1)\n",
    "    dW1 = 1/m * dZ1.dot(X.T)\n",
    "    db1 = 1/m * np.sum(dZ1,2)\n",
    "    \n",
    "    return dW1,db1,dW2,dZ2\n",
    "\n",
    "def update_params(W1,b1,W2,b2,dW1,db1,dW2,db2,alpha):\n",
    "    W1 = w1 - alpha * dW1\n",
    "    b1 = b1 - alpha * db1\n",
    "    W2 = W2 - alpha * dW2\n",
    "    b2 = b2 - alpha * db2\n",
    "    \n",
    "    return W1,b1,W2,b2"
   ]
  },
  {
   "cell_type": "markdown",
   "id": "aca2f073",
   "metadata": {},
   "source": [
    "#  gradient ----------------------------------------"
   ]
  },
  {
   "cell_type": "code",
   "execution_count": 14,
   "id": "59124aa7",
   "metadata": {},
   "outputs": [],
   "source": [
    "def loss(X,Y,A2):\n",
    "    m = Y.size\n",
    "    log_lookelihood = -np.log(A2[Y,range(m)])\n",
    "    loss = 1/m * np.sum(log_lookelihood)\n",
    "    return loss\n",
    "\n",
    "def get_predictions(A2):\n",
    "    return np.argmax(A2,0)\n",
    "\n",
    "def get_accuracy(predictions,Y):\n",
    "    print(predictions,Y)\n",
    "    \n",
    "    return np.sum(predictions == Y)/Y.size\n",
    "\n",
    "def gradient_descent(X,Y,iterations,alpha):\n",
    "    W1,b1,W2,b2 = init_params()\n",
    "    \n",
    "    for i in range(iterations):\n",
    "        Z1,A1,Z2,A2 = forward_prop(W1, b1, W2, b2, X)\n",
    "        dw1,db1,dw2,db2 = back_prop(Z1,A1,Z2,A2,W2,X,Y)\n",
    "        W1,b1,W2,b2 = update_params(W1,b1,W2,b2,dW1,db1,dW2,db2,alpha)\n",
    "        \n",
    "        if (i % 50 == 0):\n",
    "            print(\"iterations : \", i)\n",
    "            print(\"Accuracy : \",get_accuracy(get_predictions(A2,Y)))\n",
    "                  \n",
    "    return W1 ,b1 ,W2 ,b2"
   ]
  },
  {
   "cell_type": "markdown",
   "id": "d71b456d",
   "metadata": {},
   "source": [
    "# result of functions"
   ]
  },
  {
   "cell_type": "code",
   "execution_count": 15,
   "id": "73dc6e0c",
   "metadata": {},
   "outputs": [],
   "source": [
    "# W1,b1,W2,b2 = gradient_descent(X_train,Y_train,500,0.1)"
   ]
  },
  {
   "cell_type": "markdown",
   "id": "39e6fe6f",
   "metadata": {},
   "source": [
    "# matplotlib library"
   ]
  },
  {
   "cell_type": "code",
   "execution_count": null,
   "id": "89804aa2",
   "metadata": {},
   "outputs": [],
   "source": []
  },
  {
   "cell_type": "markdown",
   "id": "ba03a535",
   "metadata": {},
   "source": [
    "# sklearn library ----------------------"
   ]
  },
  {
   "cell_type": "code",
   "execution_count": 16,
   "id": "0ecd8f88",
   "metadata": {},
   "outputs": [
    {
     "ename": "ValueError",
     "evalue": "Data must be 1-dimensional",
     "output_type": "error",
     "traceback": [
      "\u001b[1;31m---------------------------------------------------------------------------\u001b[0m",
      "\u001b[1;31mValueError\u001b[0m                                Traceback (most recent call last)",
      "\u001b[1;32m<ipython-input-16-74e7079f00a5>\u001b[0m in \u001b[0;36m<module>\u001b[1;34m\u001b[0m\n\u001b[0;32m      1\u001b[0m \u001b[1;32mfrom\u001b[0m \u001b[0msklearn\u001b[0m\u001b[1;33m.\u001b[0m\u001b[0mmodel_selection\u001b[0m \u001b[1;32mimport\u001b[0m \u001b[0mtrain_test_split\u001b[0m\u001b[1;33m\u001b[0m\u001b[1;33m\u001b[0m\u001b[0m\n\u001b[0;32m      2\u001b[0m \u001b[1;32mfrom\u001b[0m \u001b[0msklearn\u001b[0m\u001b[1;33m.\u001b[0m\u001b[0mpreprocessing\u001b[0m \u001b[1;32mimport\u001b[0m \u001b[0mStandardScaler\u001b[0m\u001b[1;33m\u001b[0m\u001b[1;33m\u001b[0m\u001b[0m\n\u001b[1;32m----> 3\u001b[1;33m \u001b[0mf2\u001b[0m \u001b[1;33m=\u001b[0m \u001b[0mpd\u001b[0m\u001b[1;33m.\u001b[0m\u001b[0mget_dummies\u001b[0m\u001b[1;33m(\u001b[0m\u001b[0mfile\u001b[0m\u001b[1;33m,\u001b[0m\u001b[0mcolumns\u001b[0m \u001b[1;33m=\u001b[0m \u001b[1;33m[\u001b[0m\u001b[1;34m'Ram'\u001b[0m\u001b[1;33m,\u001b[0m\u001b[1;34m'Memory'\u001b[0m\u001b[1;33m,\u001b[0m\u001b[1;34m'Gpu'\u001b[0m\u001b[1;33m]\u001b[0m\u001b[1;33m,\u001b[0m\u001b[0mdrop_first\u001b[0m \u001b[1;33m=\u001b[0m \u001b[1;32mFalse\u001b[0m\u001b[1;33m)\u001b[0m\u001b[1;33m\u001b[0m\u001b[1;33m\u001b[0m\u001b[0m\n\u001b[0m\u001b[0;32m      4\u001b[0m \u001b[1;31m# f2.head(5)\u001b[0m\u001b[1;33m\u001b[0m\u001b[1;33m\u001b[0m\u001b[1;33m\u001b[0m\u001b[0m\n\u001b[0;32m      5\u001b[0m \u001b[1;31m# f2 = pd.get_dummies(data = file,columns = ['laptop_ID','Inches','Price_euros'])\u001b[0m\u001b[1;33m\u001b[0m\u001b[1;33m\u001b[0m\u001b[1;33m\u001b[0m\u001b[0m\n",
      "\u001b[1;32m~\\anaconda3\\lib\\site-packages\\pandas\\core\\reshape\\reshape.py\u001b[0m in \u001b[0;36mget_dummies\u001b[1;34m(data, prefix, prefix_sep, dummy_na, columns, sparse, drop_first, dtype)\u001b[0m\n\u001b[0;32m    903\u001b[0m         \u001b[0mresult\u001b[0m \u001b[1;33m=\u001b[0m \u001b[0mconcat\u001b[0m\u001b[1;33m(\u001b[0m\u001b[0mwith_dummies\u001b[0m\u001b[1;33m,\u001b[0m \u001b[0maxis\u001b[0m\u001b[1;33m=\u001b[0m\u001b[1;36m1\u001b[0m\u001b[1;33m)\u001b[0m\u001b[1;33m\u001b[0m\u001b[1;33m\u001b[0m\u001b[0m\n\u001b[0;32m    904\u001b[0m     \u001b[1;32melse\u001b[0m\u001b[1;33m:\u001b[0m\u001b[1;33m\u001b[0m\u001b[1;33m\u001b[0m\u001b[0m\n\u001b[1;32m--> 905\u001b[1;33m         result = _get_dummies_1d(\n\u001b[0m\u001b[0;32m    906\u001b[0m             \u001b[0mdata\u001b[0m\u001b[1;33m,\u001b[0m\u001b[1;33m\u001b[0m\u001b[1;33m\u001b[0m\u001b[0m\n\u001b[0;32m    907\u001b[0m             \u001b[0mprefix\u001b[0m\u001b[1;33m,\u001b[0m\u001b[1;33m\u001b[0m\u001b[1;33m\u001b[0m\u001b[0m\n",
      "\u001b[1;32m~\\anaconda3\\lib\\site-packages\\pandas\\core\\reshape\\reshape.py\u001b[0m in \u001b[0;36m_get_dummies_1d\u001b[1;34m(data, prefix, prefix_sep, dummy_na, sparse, drop_first, dtype)\u001b[0m\n\u001b[0;32m    927\u001b[0m \u001b[1;33m\u001b[0m\u001b[0m\n\u001b[0;32m    928\u001b[0m     \u001b[1;31m# Series avoids inconsistent NaN handling\u001b[0m\u001b[1;33m\u001b[0m\u001b[1;33m\u001b[0m\u001b[1;33m\u001b[0m\u001b[0m\n\u001b[1;32m--> 929\u001b[1;33m     \u001b[0mcodes\u001b[0m\u001b[1;33m,\u001b[0m \u001b[0mlevels\u001b[0m \u001b[1;33m=\u001b[0m \u001b[0mfactorize_from_iterable\u001b[0m\u001b[1;33m(\u001b[0m\u001b[0mSeries\u001b[0m\u001b[1;33m(\u001b[0m\u001b[0mdata\u001b[0m\u001b[1;33m)\u001b[0m\u001b[1;33m)\u001b[0m\u001b[1;33m\u001b[0m\u001b[1;33m\u001b[0m\u001b[0m\n\u001b[0m\u001b[0;32m    930\u001b[0m \u001b[1;33m\u001b[0m\u001b[0m\n\u001b[0;32m    931\u001b[0m     \u001b[1;32mif\u001b[0m \u001b[0mdtype\u001b[0m \u001b[1;32mis\u001b[0m \u001b[1;32mNone\u001b[0m\u001b[1;33m:\u001b[0m\u001b[1;33m\u001b[0m\u001b[1;33m\u001b[0m\u001b[0m\n",
      "\u001b[1;32m~\\anaconda3\\lib\\site-packages\\pandas\\core\\series.py\u001b[0m in \u001b[0;36m__init__\u001b[1;34m(self, data, index, dtype, name, copy, fastpath)\u001b[0m\n\u001b[0;32m    362\u001b[0m                     \u001b[0mdata\u001b[0m \u001b[1;33m=\u001b[0m \u001b[0mdata\u001b[0m\u001b[1;33m.\u001b[0m\u001b[0mcopy\u001b[0m\u001b[1;33m(\u001b[0m\u001b[1;33m)\u001b[0m\u001b[1;33m\u001b[0m\u001b[1;33m\u001b[0m\u001b[0m\n\u001b[0;32m    363\u001b[0m             \u001b[1;32melse\u001b[0m\u001b[1;33m:\u001b[0m\u001b[1;33m\u001b[0m\u001b[1;33m\u001b[0m\u001b[0m\n\u001b[1;32m--> 364\u001b[1;33m                 \u001b[0mdata\u001b[0m \u001b[1;33m=\u001b[0m \u001b[0msanitize_array\u001b[0m\u001b[1;33m(\u001b[0m\u001b[0mdata\u001b[0m\u001b[1;33m,\u001b[0m \u001b[0mindex\u001b[0m\u001b[1;33m,\u001b[0m \u001b[0mdtype\u001b[0m\u001b[1;33m,\u001b[0m \u001b[0mcopy\u001b[0m\u001b[1;33m,\u001b[0m \u001b[0mraise_cast_failure\u001b[0m\u001b[1;33m=\u001b[0m\u001b[1;32mTrue\u001b[0m\u001b[1;33m)\u001b[0m\u001b[1;33m\u001b[0m\u001b[1;33m\u001b[0m\u001b[0m\n\u001b[0m\u001b[0;32m    365\u001b[0m \u001b[1;33m\u001b[0m\u001b[0m\n\u001b[0;32m    366\u001b[0m                 \u001b[0mdata\u001b[0m \u001b[1;33m=\u001b[0m \u001b[0mSingleBlockManager\u001b[0m\u001b[1;33m.\u001b[0m\u001b[0mfrom_array\u001b[0m\u001b[1;33m(\u001b[0m\u001b[0mdata\u001b[0m\u001b[1;33m,\u001b[0m \u001b[0mindex\u001b[0m\u001b[1;33m)\u001b[0m\u001b[1;33m\u001b[0m\u001b[1;33m\u001b[0m\u001b[0m\n",
      "\u001b[1;32m~\\anaconda3\\lib\\site-packages\\pandas\\core\\construction.py\u001b[0m in \u001b[0;36msanitize_array\u001b[1;34m(data, index, dtype, copy, raise_cast_failure)\u001b[0m\n\u001b[0;32m    527\u001b[0m     \u001b[1;32melif\u001b[0m \u001b[0msubarr\u001b[0m\u001b[1;33m.\u001b[0m\u001b[0mndim\u001b[0m \u001b[1;33m>\u001b[0m \u001b[1;36m1\u001b[0m\u001b[1;33m:\u001b[0m\u001b[1;33m\u001b[0m\u001b[1;33m\u001b[0m\u001b[0m\n\u001b[0;32m    528\u001b[0m         \u001b[1;32mif\u001b[0m \u001b[0misinstance\u001b[0m\u001b[1;33m(\u001b[0m\u001b[0mdata\u001b[0m\u001b[1;33m,\u001b[0m \u001b[0mnp\u001b[0m\u001b[1;33m.\u001b[0m\u001b[0mndarray\u001b[0m\u001b[1;33m)\u001b[0m\u001b[1;33m:\u001b[0m\u001b[1;33m\u001b[0m\u001b[1;33m\u001b[0m\u001b[0m\n\u001b[1;32m--> 529\u001b[1;33m             \u001b[1;32mraise\u001b[0m \u001b[0mValueError\u001b[0m\u001b[1;33m(\u001b[0m\u001b[1;34m\"Data must be 1-dimensional\"\u001b[0m\u001b[1;33m)\u001b[0m\u001b[1;33m\u001b[0m\u001b[1;33m\u001b[0m\u001b[0m\n\u001b[0m\u001b[0;32m    530\u001b[0m         \u001b[1;32melse\u001b[0m\u001b[1;33m:\u001b[0m\u001b[1;33m\u001b[0m\u001b[1;33m\u001b[0m\u001b[0m\n\u001b[0;32m    531\u001b[0m             \u001b[0msubarr\u001b[0m \u001b[1;33m=\u001b[0m \u001b[0mcom\u001b[0m\u001b[1;33m.\u001b[0m\u001b[0masarray_tuplesafe\u001b[0m\u001b[1;33m(\u001b[0m\u001b[0mdata\u001b[0m\u001b[1;33m,\u001b[0m \u001b[0mdtype\u001b[0m\u001b[1;33m=\u001b[0m\u001b[0mdtype\u001b[0m\u001b[1;33m)\u001b[0m\u001b[1;33m\u001b[0m\u001b[1;33m\u001b[0m\u001b[0m\n",
      "\u001b[1;31mValueError\u001b[0m: Data must be 1-dimensional"
     ]
    }
   ],
   "source": [
    "from sklearn.model_selection import train_test_split\n",
    "from sklearn.preprocessing import StandardScaler\n",
    "f2 = pd.get_dummies(file,columns = ['Ram','Memory','Gpu'],drop_first = False)\n",
    "# f2.head(5)\n",
    "# f2 = pd.get_dummies(data = file,columns = ['laptop_ID','Inches','Price_euros'])\n",
    "# f2.columns\n"
   ]
  },
  {
   "cell_type": "code",
   "execution_count": null,
   "id": "d1367ca8",
   "metadata": {},
   "outputs": [],
   "source": []
  },
  {
   "cell_type": "code",
   "execution_count": null,
   "id": "8d7dc450",
   "metadata": {},
   "outputs": [],
   "source": []
  },
  {
   "cell_type": "code",
   "execution_count": null,
   "id": "a34beb47",
   "metadata": {},
   "outputs": [],
   "source": [
    "\n"
   ]
  }
 ],
 "metadata": {
  "kernelspec": {
   "display_name": "Python 3",
   "language": "python",
   "name": "python3"
  },
  "language_info": {
   "codemirror_mode": {
    "name": "ipython",
    "version": 3
   },
   "file_extension": ".py",
   "mimetype": "text/x-python",
   "name": "python",
   "nbconvert_exporter": "python",
   "pygments_lexer": "ipython3",
   "version": "3.8.8"
  }
 },
 "nbformat": 4,
 "nbformat_minor": 5
}
